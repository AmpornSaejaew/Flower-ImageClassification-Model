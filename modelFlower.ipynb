{
 "cells": [
  {
   "cell_type": "code",
   "execution_count": 2,
   "metadata": {},
   "outputs": [
    {
     "name": "stdout",
     "output_type": "stream",
     "text": [
      "Found 6552 files belonging to 102 classes.\n",
      "Found 818 files belonging to 102 classes.\n",
      "Found 819 files belonging to 102 classes.\n"
     ]
    }
   ],
   "source": [
    "import tensorflow as tf\n",
    "import numpy as np\n",
    "\n",
    "train_data = tf.keras.utils.image_dataset_from_directory(\n",
    "    \"./train\",\n",
    "    label_mode=\"categorical\",\n",
    "    image_size=(150, 150),\n",
    "    shuffle=False,\n",
    "    seed=0\n",
    ")\n",
    "\n",
    "valid_data = tf.keras.utils.image_dataset_from_directory(\n",
    "    \"./valid\",\n",
    "    label_mode=\"categorical\",\n",
    "    image_size=(150, 150),\n",
    "    shuffle=False,\n",
    "    seed=0\n",
    ")\n",
    "\n",
    "test_data = tf.keras.utils.image_dataset_from_directory(\n",
    "    \"./test\",\n",
    "    label_mode=\"categorical\",\n",
    "    image_size=(150, 150),\n",
    "    shuffle=False,\n",
    "    seed=0\n",
    ")\n",
    "\n",
    "\n",
    "X_train = np.concatenate([x for x, _ in train_data], axis=0)\n",
    "y_train = np.concatenate([y for _, y in train_data], axis=0)\n",
    "\n",
    "X_valid = np.concatenate([x for x, _ in valid_data], axis=0)\n",
    "y_valid = np.concatenate([y for _, y in valid_data], axis=0)\n",
    "\n",
    "X_test = np.concatenate([x for x, _ in test_data], axis=0)\n",
    "y_test = np.concatenate([y for _, y in test_data], axis=0)\n",
    "\n"
   ]
  },
  {
   "cell_type": "code",
   "execution_count": 3,
   "metadata": {},
   "outputs": [
    {
     "data": {
      "text/plain": [
       "102"
      ]
     },
     "execution_count": 3,
     "metadata": {},
     "output_type": "execute_result"
    }
   ],
   "source": [
    "classes = train_data.class_names\n",
    "n_classes = len(classes)\n",
    "n_classes"
   ]
  },
  {
   "cell_type": "code",
   "execution_count": 4,
   "metadata": {},
   "outputs": [],
   "source": [
    "# n_batches = valid_data.cardinality()\n",
    "# n_batches"
   ]
  },
  {
   "cell_type": "code",
   "execution_count": 5,
   "metadata": {},
   "outputs": [
    {
     "name": "stdout",
     "output_type": "stream",
     "text": [
      "WARNING:tensorflow:Using a while_loop for converting RngReadAndSkip cause there is no registered converter for this op.\n",
      "WARNING:tensorflow:Using a while_loop for converting Bitcast cause there is no registered converter for this op.\n",
      "WARNING:tensorflow:Using a while_loop for converting Bitcast cause there is no registered converter for this op.\n",
      "WARNING:tensorflow:Using a while_loop for converting StatelessRandomUniformV2 cause there is no registered converter for this op.\n",
      "WARNING:tensorflow:Using a while_loop for converting ImageProjectiveTransformV3 cause there is no registered converter for this op.\n"
     ]
    }
   ],
   "source": [
    "for transform in [\n",
    "    tf.keras.layers.RandomFlip(\"horizontal\"),\n",
    "    tf.keras.layers.RandomRotation(0.1)]:\n",
    "    \n",
    "    train_data = train_data.map(lambda x, y: (transform(x), y))"
   ]
  },
  {
   "cell_type": "code",
   "execution_count": 6,
   "metadata": {},
   "outputs": [
    {
     "name": "stdout",
     "output_type": "stream",
     "text": [
      "Requirement already satisfied: keras-tuner in c:\\users\\mary mare\\anaconda3\\envs\\dl_env\\lib\\site-packages (1.4.6)\n",
      "Requirement already satisfied: keras in c:\\users\\mary mare\\anaconda3\\envs\\dl_env\\lib\\site-packages (from keras-tuner) (2.10.0)\n",
      "Requirement already satisfied: packaging in c:\\users\\mary mare\\anaconda3\\envs\\dl_env\\lib\\site-packages (from keras-tuner) (23.2)\n",
      "Requirement already satisfied: requests in c:\\users\\mary mare\\anaconda3\\envs\\dl_env\\lib\\site-packages (from keras-tuner) (2.31.0)\n",
      "Requirement already satisfied: kt-legacy in c:\\users\\mary mare\\anaconda3\\envs\\dl_env\\lib\\site-packages (from keras-tuner) (1.0.5)\n",
      "Requirement already satisfied: charset-normalizer<4,>=2 in c:\\users\\mary mare\\anaconda3\\envs\\dl_env\\lib\\site-packages (from requests->keras-tuner) (3.3.2)\n",
      "Requirement already satisfied: idna<4,>=2.5 in c:\\users\\mary mare\\anaconda3\\envs\\dl_env\\lib\\site-packages (from requests->keras-tuner) (3.6)\n",
      "Requirement already satisfied: urllib3<3,>=1.21.1 in c:\\users\\mary mare\\anaconda3\\envs\\dl_env\\lib\\site-packages (from requests->keras-tuner) (2.2.0)\n",
      "Requirement already satisfied: certifi>=2017.4.17 in c:\\users\\mary mare\\anaconda3\\envs\\dl_env\\lib\\site-packages (from requests->keras-tuner) (2024.2.2)\n"
     ]
    }
   ],
   "source": [
    "!pip install keras-tuner"
   ]
  },
  {
   "cell_type": "code",
   "execution_count": 7,
   "metadata": {},
   "outputs": [
    {
     "name": "stderr",
     "output_type": "stream",
     "text": [
      "C:\\Users\\Mary Mare\\AppData\\Local\\Temp\\ipykernel_8920\\1871328632.py:8: DeprecationWarning: `import kerastuner` is deprecated, please use `import keras_tuner`.\n",
      "  from kerastuner.tuners import RandomSearch\n"
     ]
    },
    {
     "name": "stdout",
     "output_type": "stream",
     "text": [
      "Model: \"model\"\n",
      "____________________________________________________________________________\n",
      " Layer (type)                Output Shape              Param #   Trainable  \n",
      "============================================================================\n",
      " input_2 (InputLayer)        [(None, 150, 150, 3)]     0         Y          \n",
      "                                                                            \n",
      " rescaling (Rescaling)       (None, 150, 150, 3)       0         Y          \n",
      "                                                                            \n",
      " xception (Functional)       (None, 5, 5, 2048)        20861480  N          \n",
      "                                                                            \n",
      " dense (Dense)               (None, 5, 5, 256)         524544    Y          \n",
      "                                                                            \n",
      " dense_1 (Dense)             (None, 5, 5, 128)         32896     Y          \n",
      "                                                                            \n",
      " global_average_pooling2d (G  (None, 128)              0         Y          \n",
      " lobalAveragePooling2D)                                                     \n",
      "                                                                            \n",
      " dense_2 (Dense)             (None, 102)               13158     Y          \n",
      "                                                                            \n",
      "============================================================================\n",
      "Total params: 21,432,078\n",
      "Trainable params: 570,598\n",
      "Non-trainable params: 20,861,480\n",
      "____________________________________________________________________________\n"
     ]
    }
   ],
   "source": [
    "import tensorflow as tf\n",
    "from tensorflow.keras import layers\n",
    "from tensorflow.keras.models import Model\n",
    "from tensorflow.keras.applications import Xception\n",
    "from tensorflow.keras.optimizers import RMSprop\n",
    "from tensorflow.keras.losses import CategoricalCrossentropy\n",
    "from tensorflow.keras.metrics import CategoricalAccuracy\n",
    "from kerastuner.tuners import RandomSearch\n",
    "\n",
    "\n",
    "def create_model(hp=None):\n",
    "    base_model = Xception(\n",
    "        weights=\"imagenet\",\n",
    "        input_shape=(150, 150, 3),\n",
    "        include_top=False,\n",
    "    )\n",
    "\n",
    "    base_model.trainable = False\n",
    "\n",
    "    inputs = tf.keras.Input(shape=(150, 150, 3))\n",
    "    scaling = layers.Rescaling(scale=1 / 127.5, offset=-1)\n",
    "    outputs = scaling(inputs)\n",
    "    outputs = base_model(outputs, training=False)\n",
    "    outputs = layers.Dense(256, activation='relu')(outputs)\n",
    "    outputs = layers.Dense(128, activation='relu')(outputs)\n",
    "    outputs = layers.GlobalAveragePooling2D()(outputs)\n",
    "    outputs = layers.Dense(n_classes, activation='softmax')(outputs)\n",
    "    model = Model(inputs, outputs)\n",
    "    \n",
    "    model.compile(\n",
    "        optimizer=tf.keras.optimizers.RMSprop(learning_rate=0.0003),\n",
    "        loss=CategoricalCrossentropy(),\n",
    "        metrics=[CategoricalAccuracy()]\n",
    "    )\n",
    "\n",
    "    return model\n",
    "\n",
    "model = create_model()\n",
    "model.summary(show_trainable=True)"
   ]
  },
  {
   "cell_type": "code",
   "execution_count": 8,
   "metadata": {},
   "outputs": [],
   "source": [
    "for transform in [\n",
    "    tf.keras.layers.RandomFlip(\"horizontal\"),\n",
    "    tf.keras.layers.RandomRotation(0.1),\n",
    "]:\n",
    "    train_data = train_data.map(lambda x, y: (transform(x), y))"
   ]
  },
  {
   "cell_type": "code",
   "execution_count": 9,
   "metadata": {},
   "outputs": [
    {
     "name": "stdout",
     "output_type": "stream",
     "text": [
      "Reloading Tuner from .\\flower_hp\\tuner0.json\n"
     ]
    }
   ],
   "source": [
    "# !pip install keras-tuner\n",
    "import keras_tuner as kt\n",
    "import numpy as np\n",
    "\n",
    "tuner = kt.Hyperband(\n",
    "    hypermodel=create_model,\n",
    "    objective=\"categorical_accuracy\",\n",
    "    max_epochs=10,\n",
    "    factor=3,\n",
    "    project_name=\"flower_hp\"\n",
    ")\n",
    "\n",
    "stop_early = tf.keras.callbacks.EarlyStopping(monitor=\"val_loss\", patience=5)\n",
    "\n",
    "tuner.search(X_train, y_train, epochs=1, validation_data=(X_valid, y_valid), callbacks=[stop_early])\n",
    "best_hps = tuner.get_best_hyperparameters(num_trials=1)[0]"
   ]
  },
  {
   "cell_type": "code",
   "execution_count": 10,
   "metadata": {},
   "outputs": [
    {
     "name": "stdout",
     "output_type": "stream",
     "text": [
      "205/205 [==============================] - 347s 2s/step - loss: 3.0516 - categorical_accuracy: 0.3442 - val_loss: 1.9833 - val_categorical_accuracy: 0.5232\n"
     ]
    }
   ],
   "source": [
    "model = tuner.hypermodel.build(best_hps)\n",
    "history = model.fit(X_train, y_train, validation_data=(X_valid, y_valid),epochs=10)"
   ]
  },
  {
   "cell_type": "code",
   "execution_count": 11,
   "metadata": {},
   "outputs": [
    {
     "name": "stdout",
     "output_type": "stream",
     "text": [
      "Best epoch: 1\n"
     ]
    }
   ],
   "source": [
    "val_acc_per_epoch = history.history[\"val_categorical_accuracy\"]\n",
    "best_epoch = val_acc_per_epoch.index(max(val_acc_per_epoch)) + 1\n",
    "print(\"Best epoch: %d\" % (best_epoch))"
   ]
  },
  {
   "cell_type": "code",
   "execution_count": 12,
   "metadata": {},
   "outputs": [
    {
     "name": "stdout",
     "output_type": "stream",
     "text": [
      "205/205 [==============================] - 363s 2s/step - loss: 3.0936 - categorical_accuracy: 0.3350 - val_loss: 2.0794 - val_categorical_accuracy: 0.5110\n"
     ]
    }
   ],
   "source": [
    "hypermodel = tuner.hypermodel.build(best_hps)\n",
    "history_hypermodel=hypermodel.fit(X_train, y_train, epochs=best_epoch, validation_data=(X_valid, y_valid))"
   ]
  },
  {
   "cell_type": "code",
   "execution_count": 15,
   "metadata": {},
   "outputs": [
    {
     "name": "stdout",
     "output_type": "stream",
     "text": [
      "1/1 [==============================] - 1s 1s/step\n",
      "Top three predictions:\n",
      "1. mallow: Probability 0.21693263947963715\n",
      "2. ruby-lipped cattleya: Probability 0.09137009084224701\n",
      "3. blanket flower: Probability 0.0481443926692009\n"
     ]
    }
   ],
   "source": [
    "import json\n",
    "import numpy as np\n",
    "import tensorflow as tf\n",
    "\n",
    "# Load the class name dictionary from the JSON file\n",
    "with open('Flower-Classes-to-Flower-Names-Dictionary.json', 'r') as f:\n",
    "    classes = json.load(f)\n",
    "\n",
    "# Assuming you have defined and loaded your functional model\n",
    "model = hypermodel\n",
    "\n",
    "def predict(path):\n",
    "    image = tf.keras.preprocessing.image.load_img(path, target_size=(150, 150))\n",
    "    image = tf.keras.preprocessing.image.img_to_array(image)\n",
    "    image = np.expand_dims(image, axis=0)\n",
    "\n",
    "    # Use predict to get the raw prediction output\n",
    "    raw_predictions = model.predict(image)\n",
    "\n",
    "    # Get the top three predicted classes and their probabilities\n",
    "    top_three_indices = np.argsort(raw_predictions[0])[::-1][:3]\n",
    "    top_three_predictions = [(classes[str(index)], raw_predictions[0][index]) for index in top_three_indices]\n",
    "\n",
    "    return top_three_predictions\n",
    "\n",
    "# Example usage\n",
    "top_three_predictions = predict(\"canterbury-bells-image.jpg\")\n",
    "print(\"Top three predictions:\")\n",
    "for i, (flower_name, probability) in enumerate(top_three_predictions, start=1):\n",
    "    print(f\"{i}. {flower_name}: Probability {probability}\")\n"
   ]
  },
  {
   "cell_type": "code",
   "execution_count": null,
   "metadata": {},
   "outputs": [
    {
     "name": "stdout",
     "output_type": "stream",
     "text": [
      "205/205 [==============================] - 549s 3s/step - loss: 0.1556 - categorical_accuracy: 0.9699\n",
      "Training Loss: 0.15557324886322021, Training Accuracy: 0.9699328541755676\n",
      "26/26 [==============================] - 69s 3s/step - loss: 0.9841 - categorical_accuracy: 0.7436\n",
      "Test Loss: 0.9840571284294128, Test Accuracy: 0.7435897588729858\n"
     ]
    }
   ],
   "source": [
    "# Assuming hypermodel is a Keras Functional model\n",
    "\n",
    "# Training score\n",
    "training_results = hypermodel.evaluate(X_train, y_train)\n",
    "training_loss = training_results[0]  # Assuming loss is the first element in the results\n",
    "training_accuracy = training_results[1]  # Assuming accuracy is the second element in the results\n",
    "print(f'Training Loss: {training_loss}, Training Accuracy: {training_accuracy}')\n",
    "\n",
    "# Test score\n",
    "test_results = hypermodel.evaluate(X_test, y_test)\n",
    "test_loss = test_results[0]  # Assuming loss is the first element in the results\n",
    "test_accuracy = test_results[1]  # Assuming accuracy is the second element in the results\n",
    "print(f'Test Loss: {test_loss}, Test Accuracy: {test_accuracy}')\n"
   ]
  },
  {
   "cell_type": "code",
   "execution_count": null,
   "metadata": {},
   "outputs": [],
   "source": [
    "model.save(\"trained-model-flower.keras\")"
   ]
  },
  {
   "cell_type": "code",
   "execution_count": null,
   "metadata": {},
   "outputs": [
    {
     "name": "stdout",
     "output_type": "stream",
     "text": [
      "Requirement already satisfied: gradio in c:\\users\\mary mare\\anaconda3\\envs\\dl_env\\lib\\site-packages (4.19.1)\n",
      "Requirement already satisfied: aiofiles<24.0,>=22.0 in c:\\users\\mary mare\\anaconda3\\envs\\dl_env\\lib\\site-packages (from gradio) (23.2.1)\n",
      "Requirement already satisfied: altair<6.0,>=4.2.0 in c:\\users\\mary mare\\anaconda3\\envs\\dl_env\\lib\\site-packages (from gradio) (5.2.0)\n",
      "Requirement already satisfied: fastapi in c:\\users\\mary mare\\anaconda3\\envs\\dl_env\\lib\\site-packages (from gradio) (0.109.2)\n",
      "Requirement already satisfied: ffmpy in c:\\users\\mary mare\\anaconda3\\envs\\dl_env\\lib\\site-packages (from gradio) (0.3.2)\n",
      "Requirement already satisfied: gradio-client==0.10.0 in c:\\users\\mary mare\\anaconda3\\envs\\dl_env\\lib\\site-packages (from gradio) (0.10.0)\n",
      "Requirement already satisfied: httpx in c:\\users\\mary mare\\anaconda3\\envs\\dl_env\\lib\\site-packages (from gradio) (0.26.0)\n",
      "Requirement already satisfied: huggingface-hub>=0.19.3 in c:\\users\\mary mare\\anaconda3\\envs\\dl_env\\lib\\site-packages (from gradio) (0.20.3)\n",
      "Requirement already satisfied: importlib-resources<7.0,>=1.3 in c:\\users\\mary mare\\anaconda3\\envs\\dl_env\\lib\\site-packages (from gradio) (6.1.1)\n",
      "Requirement already satisfied: jinja2<4.0 in c:\\users\\mary mare\\anaconda3\\envs\\dl_env\\lib\\site-packages (from gradio) (3.1.3)\n",
      "Requirement already satisfied: markupsafe~=2.0 in c:\\users\\mary mare\\anaconda3\\envs\\dl_env\\lib\\site-packages (from gradio) (2.1.3)\n",
      "Requirement already satisfied: matplotlib~=3.0 in c:\\users\\mary mare\\anaconda3\\envs\\dl_env\\lib\\site-packages (from gradio) (3.8.2)\n",
      "Requirement already satisfied: numpy~=1.0 in c:\\users\\mary mare\\anaconda3\\envs\\dl_env\\lib\\site-packages (from gradio) (1.26.4)\n",
      "Requirement already satisfied: orjson~=3.0 in c:\\users\\mary mare\\anaconda3\\envs\\dl_env\\lib\\site-packages (from gradio) (3.9.14)\n",
      "Requirement already satisfied: packaging in c:\\users\\mary mare\\anaconda3\\envs\\dl_env\\lib\\site-packages (from gradio) (23.2)\n",
      "Requirement already satisfied: pandas<3.0,>=1.0 in c:\\users\\mary mare\\anaconda3\\envs\\dl_env\\lib\\site-packages (from gradio) (2.2.0)\n",
      "Requirement already satisfied: pillow<11.0,>=8.0 in c:\\users\\mary mare\\anaconda3\\envs\\dl_env\\lib\\site-packages (from gradio) (10.2.0)\n",
      "Requirement already satisfied: pydantic>=2.0 in c:\\users\\mary mare\\anaconda3\\envs\\dl_env\\lib\\site-packages (from gradio) (2.6.1)\n",
      "Requirement already satisfied: pydub in c:\\users\\mary mare\\anaconda3\\envs\\dl_env\\lib\\site-packages (from gradio) (0.25.1)\n",
      "Requirement already satisfied: python-multipart>=0.0.9 in c:\\users\\mary mare\\anaconda3\\envs\\dl_env\\lib\\site-packages (from gradio) (0.0.9)\n",
      "Requirement already satisfied: pyyaml<7.0,>=5.0 in c:\\users\\mary mare\\anaconda3\\envs\\dl_env\\lib\\site-packages (from gradio) (6.0.1)\n",
      "Requirement already satisfied: ruff>=0.1.7 in c:\\users\\mary mare\\anaconda3\\envs\\dl_env\\lib\\site-packages (from gradio) (0.2.1)\n",
      "Requirement already satisfied: semantic-version~=2.0 in c:\\users\\mary mare\\anaconda3\\envs\\dl_env\\lib\\site-packages (from gradio) (2.10.0)\n",
      "Requirement already satisfied: tomlkit==0.12.0 in c:\\users\\mary mare\\anaconda3\\envs\\dl_env\\lib\\site-packages (from gradio) (0.12.0)\n",
      "Requirement already satisfied: typer<1.0,>=0.9 in c:\\users\\mary mare\\anaconda3\\envs\\dl_env\\lib\\site-packages (from typer[all]<1.0,>=0.9->gradio) (0.9.0)\n",
      "Requirement already satisfied: typing-extensions~=4.0 in c:\\users\\mary mare\\anaconda3\\envs\\dl_env\\lib\\site-packages (from gradio) (4.9.0)\n",
      "Requirement already satisfied: uvicorn>=0.14.0 in c:\\users\\mary mare\\anaconda3\\envs\\dl_env\\lib\\site-packages (from gradio) (0.27.1)\n",
      "Requirement already satisfied: fsspec in c:\\users\\mary mare\\anaconda3\\envs\\dl_env\\lib\\site-packages (from gradio-client==0.10.0->gradio) (2024.2.0)\n",
      "Requirement already satisfied: websockets<12.0,>=10.0 in c:\\users\\mary mare\\anaconda3\\envs\\dl_env\\lib\\site-packages (from gradio-client==0.10.0->gradio) (11.0.3)\n",
      "Requirement already satisfied: jsonschema>=3.0 in c:\\users\\mary mare\\anaconda3\\envs\\dl_env\\lib\\site-packages (from altair<6.0,>=4.2.0->gradio) (4.21.1)\n",
      "Requirement already satisfied: toolz in c:\\users\\mary mare\\anaconda3\\envs\\dl_env\\lib\\site-packages (from altair<6.0,>=4.2.0->gradio) (0.12.1)\n",
      "Requirement already satisfied: filelock in c:\\users\\mary mare\\anaconda3\\envs\\dl_env\\lib\\site-packages (from huggingface-hub>=0.19.3->gradio) (3.13.1)\n",
      "Requirement already satisfied: requests in c:\\users\\mary mare\\anaconda3\\envs\\dl_env\\lib\\site-packages (from huggingface-hub>=0.19.3->gradio) (2.31.0)\n",
      "Requirement already satisfied: tqdm>=4.42.1 in c:\\users\\mary mare\\anaconda3\\envs\\dl_env\\lib\\site-packages (from huggingface-hub>=0.19.3->gradio) (4.66.2)\n",
      "Requirement already satisfied: contourpy>=1.0.1 in c:\\users\\mary mare\\anaconda3\\envs\\dl_env\\lib\\site-packages (from matplotlib~=3.0->gradio) (1.2.0)\n",
      "Requirement already satisfied: cycler>=0.10 in c:\\users\\mary mare\\anaconda3\\envs\\dl_env\\lib\\site-packages (from matplotlib~=3.0->gradio) (0.12.1)\n",
      "Requirement already satisfied: fonttools>=4.22.0 in c:\\users\\mary mare\\anaconda3\\envs\\dl_env\\lib\\site-packages (from matplotlib~=3.0->gradio) (4.48.1)\n",
      "Requirement already satisfied: kiwisolver>=1.3.1 in c:\\users\\mary mare\\anaconda3\\envs\\dl_env\\lib\\site-packages (from matplotlib~=3.0->gradio) (1.4.5)\n",
      "Requirement already satisfied: pyparsing>=2.3.1 in c:\\users\\mary mare\\anaconda3\\envs\\dl_env\\lib\\site-packages (from matplotlib~=3.0->gradio) (3.1.1)\n",
      "Requirement already satisfied: python-dateutil>=2.7 in c:\\users\\mary mare\\anaconda3\\envs\\dl_env\\lib\\site-packages (from matplotlib~=3.0->gradio) (2.8.2)\n",
      "Requirement already satisfied: pytz>=2020.1 in c:\\users\\mary mare\\anaconda3\\envs\\dl_env\\lib\\site-packages (from pandas<3.0,>=1.0->gradio) (2024.1)\n",
      "Requirement already satisfied: tzdata>=2022.7 in c:\\users\\mary mare\\anaconda3\\envs\\dl_env\\lib\\site-packages (from pandas<3.0,>=1.0->gradio) (2024.1)\n",
      "Requirement already satisfied: annotated-types>=0.4.0 in c:\\users\\mary mare\\anaconda3\\envs\\dl_env\\lib\\site-packages (from pydantic>=2.0->gradio) (0.6.0)\n",
      "Requirement already satisfied: pydantic-core==2.16.2 in c:\\users\\mary mare\\anaconda3\\envs\\dl_env\\lib\\site-packages (from pydantic>=2.0->gradio) (2.16.2)\n",
      "Requirement already satisfied: click<9.0.0,>=7.1.1 in c:\\users\\mary mare\\anaconda3\\envs\\dl_env\\lib\\site-packages (from typer<1.0,>=0.9->typer[all]<1.0,>=0.9->gradio) (8.1.7)\n",
      "Requirement already satisfied: colorama<0.5.0,>=0.4.3 in c:\\users\\mary mare\\anaconda3\\envs\\dl_env\\lib\\site-packages (from typer[all]<1.0,>=0.9->gradio) (0.4.6)\n",
      "Requirement already satisfied: shellingham<2.0.0,>=1.3.0 in c:\\users\\mary mare\\anaconda3\\envs\\dl_env\\lib\\site-packages (from typer[all]<1.0,>=0.9->gradio) (1.5.4)\n",
      "Requirement already satisfied: rich<14.0.0,>=10.11.0 in c:\\users\\mary mare\\anaconda3\\envs\\dl_env\\lib\\site-packages (from typer[all]<1.0,>=0.9->gradio) (13.7.0)\n",
      "Requirement already satisfied: h11>=0.8 in c:\\users\\mary mare\\anaconda3\\envs\\dl_env\\lib\\site-packages (from uvicorn>=0.14.0->gradio) (0.14.0)\n",
      "Requirement already satisfied: starlette<0.37.0,>=0.36.3 in c:\\users\\mary mare\\anaconda3\\envs\\dl_env\\lib\\site-packages (from fastapi->gradio) (0.36.3)\n",
      "Requirement already satisfied: anyio in c:\\users\\mary mare\\anaconda3\\envs\\dl_env\\lib\\site-packages (from httpx->gradio) (3.7.1)\n",
      "Requirement already satisfied: certifi in c:\\users\\mary mare\\anaconda3\\envs\\dl_env\\lib\\site-packages (from httpx->gradio) (2024.2.2)\n",
      "Requirement already satisfied: httpcore==1.* in c:\\users\\mary mare\\anaconda3\\envs\\dl_env\\lib\\site-packages (from httpx->gradio) (1.0.3)\n",
      "Requirement already satisfied: idna in c:\\users\\mary mare\\anaconda3\\envs\\dl_env\\lib\\site-packages (from httpx->gradio) (3.6)\n",
      "Requirement already satisfied: sniffio in c:\\users\\mary mare\\anaconda3\\envs\\dl_env\\lib\\site-packages (from httpx->gradio) (1.3.0)\n",
      "Requirement already satisfied: attrs>=22.2.0 in c:\\users\\mary mare\\anaconda3\\envs\\dl_env\\lib\\site-packages (from jsonschema>=3.0->altair<6.0,>=4.2.0->gradio) (23.2.0)\n",
      "Requirement already satisfied: jsonschema-specifications>=2023.03.6 in c:\\users\\mary mare\\anaconda3\\envs\\dl_env\\lib\\site-packages (from jsonschema>=3.0->altair<6.0,>=4.2.0->gradio) (2023.12.1)\n",
      "Requirement already satisfied: referencing>=0.28.4 in c:\\users\\mary mare\\anaconda3\\envs\\dl_env\\lib\\site-packages (from jsonschema>=3.0->altair<6.0,>=4.2.0->gradio) (0.33.0)\n",
      "Requirement already satisfied: rpds-py>=0.7.1 in c:\\users\\mary mare\\anaconda3\\envs\\dl_env\\lib\\site-packages (from jsonschema>=3.0->altair<6.0,>=4.2.0->gradio) (0.10.6)\n",
      "Requirement already satisfied: six>=1.5 in c:\\users\\mary mare\\anaconda3\\envs\\dl_env\\lib\\site-packages (from python-dateutil>=2.7->matplotlib~=3.0->gradio) (1.16.0)\n",
      "Requirement already satisfied: markdown-it-py>=2.2.0 in c:\\users\\mary mare\\anaconda3\\envs\\dl_env\\lib\\site-packages (from rich<14.0.0,>=10.11.0->typer[all]<1.0,>=0.9->gradio) (3.0.0)\n",
      "Requirement already satisfied: pygments<3.0.0,>=2.13.0 in c:\\users\\mary mare\\anaconda3\\envs\\dl_env\\lib\\site-packages (from rich<14.0.0,>=10.11.0->typer[all]<1.0,>=0.9->gradio) (2.17.2)\n",
      "Requirement already satisfied: exceptiongroup in c:\\users\\mary mare\\anaconda3\\envs\\dl_env\\lib\\site-packages (from anyio->httpx->gradio) (1.2.0)\n",
      "Requirement already satisfied: charset-normalizer<4,>=2 in c:\\users\\mary mare\\anaconda3\\envs\\dl_env\\lib\\site-packages (from requests->huggingface-hub>=0.19.3->gradio) (3.3.2)\n",
      "Requirement already satisfied: urllib3<3,>=1.21.1 in c:\\users\\mary mare\\anaconda3\\envs\\dl_env\\lib\\site-packages (from requests->huggingface-hub>=0.19.3->gradio) (2.2.0)\n",
      "Requirement already satisfied: mdurl~=0.1 in c:\\users\\mary mare\\anaconda3\\envs\\dl_env\\lib\\site-packages (from markdown-it-py>=2.2.0->rich<14.0.0,>=10.11.0->typer[all]<1.0,>=0.9->gradio) (0.1.2)\n"
     ]
    }
   ],
   "source": [
    "!pip install gradio"
   ]
  },
  {
   "cell_type": "code",
   "execution_count": null,
   "metadata": {},
   "outputs": [
    {
     "name": "stdout",
     "output_type": "stream",
     "text": [
      "Writing app.py\n"
     ]
    }
   ],
   "source": [
    "%%writefile app.py\n",
    "# !pip install gradio ipywidgets\n",
    "import joblib\n",
    "import tensorflow as tf\n",
    "import gradio as gr\n",
    "import numpy as np\n",
    "\n",
    "model = tf.keras.models.load_model(\"model.keras\")\n",
    "classes = joblib.load(\"classes.joblib\")\n",
    "\n",
    "def predict(path):\n",
    "    image = tf.keras.preprocessing.image.load_img(path, target_size=(150, 150))\n",
    "    image = tf.keras.preprocessing.image.img_to_array(image)\n",
    "    image = np.expand_dims(image, axis=0)\n",
    "\n",
    "    predicted = model.predict(image)[0].argmax(axis=-1)\n",
    "    return classes[predicted]\n",
    "\n",
    "# https://www.gradio.app/guides\n",
    "with gr.Blocks() as blocks:\n",
    "    path = gr.Image(label=\"Image\", type=\"filepath\")\n",
    "    label = gr.Textbox(label=\"Label\")\n",
    "\n",
    "    inputs = [path]\n",
    "    outputs = [label]\n",
    "\n",
    "    predict_btn = gr.Button(\"Predict\")\n",
    "    predict_btn.click(predict, inputs=inputs, outputs=outputs)\n",
    "\n",
    "if __name__ == \"__main__\":\n",
    "    blocks.launch() # Local machine only\n",
    "    # blocks.launch(server_name=\"0.0.0.0\") # LAN access to local machine\n",
    "    # blocks.launch(share=True) # Public access to local machine\n",
    "    # predict(\"cats_vs_dogs/cat/0.jpg\")"
   ]
  },
  {
   "cell_type": "code",
   "execution_count": null,
   "metadata": {},
   "outputs": [
    {
     "ename": "OSError",
     "evalue": "No file or directory found at model.keras",
     "output_type": "error",
     "traceback": [
      "\u001b[1;31m---------------------------------------------------------------------------\u001b[0m",
      "\u001b[1;31mOSError\u001b[0m                                   Traceback (most recent call last)",
      "File \u001b[1;32mD:\\junior-2\\MachineLearning\\Flower-ImageClassification-Model\\app.py:7\u001b[0m\n\u001b[0;32m      4\u001b[0m \u001b[38;5;28;01mimport\u001b[39;00m \u001b[38;5;21;01mgradio\u001b[39;00m \u001b[38;5;28;01mas\u001b[39;00m \u001b[38;5;21;01mgr\u001b[39;00m\n\u001b[0;32m      5\u001b[0m \u001b[38;5;28;01mimport\u001b[39;00m \u001b[38;5;21;01mnumpy\u001b[39;00m \u001b[38;5;28;01mas\u001b[39;00m \u001b[38;5;21;01mnp\u001b[39;00m\n\u001b[1;32m----> 7\u001b[0m model \u001b[38;5;241m=\u001b[39m \u001b[43mtf\u001b[49m\u001b[38;5;241;43m.\u001b[39;49m\u001b[43mkeras\u001b[49m\u001b[38;5;241;43m.\u001b[39;49m\u001b[43mmodels\u001b[49m\u001b[38;5;241;43m.\u001b[39;49m\u001b[43mload_model\u001b[49m\u001b[43m(\u001b[49m\u001b[38;5;124;43m\"\u001b[39;49m\u001b[38;5;124;43mmodel.keras\u001b[39;49m\u001b[38;5;124;43m\"\u001b[39;49m\u001b[43m)\u001b[49m\n\u001b[0;32m      8\u001b[0m classes \u001b[38;5;241m=\u001b[39m joblib\u001b[38;5;241m.\u001b[39mload(\u001b[38;5;124m\"\u001b[39m\u001b[38;5;124mclasses.joblib\u001b[39m\u001b[38;5;124m\"\u001b[39m)\n\u001b[0;32m     10\u001b[0m \u001b[38;5;28;01mdef\u001b[39;00m \u001b[38;5;21mpredict\u001b[39m(path):\n",
      "File \u001b[1;32mc:\\Users\\Mary Mare\\anaconda3\\envs\\dl_env\\lib\\site-packages\\keras\\utils\\traceback_utils.py:70\u001b[0m, in \u001b[0;36mfilter_traceback.<locals>.error_handler\u001b[1;34m(*args, **kwargs)\u001b[0m\n\u001b[0;32m     67\u001b[0m     filtered_tb \u001b[38;5;241m=\u001b[39m _process_traceback_frames(e\u001b[38;5;241m.\u001b[39m__traceback__)\n\u001b[0;32m     68\u001b[0m     \u001b[38;5;66;03m# To get the full stack trace, call:\u001b[39;00m\n\u001b[0;32m     69\u001b[0m     \u001b[38;5;66;03m# `tf.debugging.disable_traceback_filtering()`\u001b[39;00m\n\u001b[1;32m---> 70\u001b[0m     \u001b[38;5;28;01mraise\u001b[39;00m e\u001b[38;5;241m.\u001b[39mwith_traceback(filtered_tb) \u001b[38;5;28;01mfrom\u001b[39;00m \u001b[38;5;28;01mNone\u001b[39;00m\n\u001b[0;32m     71\u001b[0m \u001b[38;5;28;01mfinally\u001b[39;00m:\n\u001b[0;32m     72\u001b[0m     \u001b[38;5;28;01mdel\u001b[39;00m filtered_tb\n",
      "File \u001b[1;32mc:\\Users\\Mary Mare\\anaconda3\\envs\\dl_env\\lib\\site-packages\\keras\\saving\\save.py:226\u001b[0m, in \u001b[0;36mload_model\u001b[1;34m(filepath, custom_objects, compile, options)\u001b[0m\n\u001b[0;32m    224\u001b[0m \u001b[38;5;28;01mif\u001b[39;00m \u001b[38;5;28misinstance\u001b[39m(filepath_str, \u001b[38;5;28mstr\u001b[39m):\n\u001b[0;32m    225\u001b[0m     \u001b[38;5;28;01mif\u001b[39;00m \u001b[38;5;129;01mnot\u001b[39;00m tf\u001b[38;5;241m.\u001b[39mio\u001b[38;5;241m.\u001b[39mgfile\u001b[38;5;241m.\u001b[39mexists(filepath_str):\n\u001b[1;32m--> 226\u001b[0m         \u001b[38;5;28;01mraise\u001b[39;00m \u001b[38;5;167;01mIOError\u001b[39;00m(\n\u001b[0;32m    227\u001b[0m             \u001b[38;5;124mf\u001b[39m\u001b[38;5;124m\"\u001b[39m\u001b[38;5;124mNo file or directory found at \u001b[39m\u001b[38;5;132;01m{\u001b[39;00mfilepath_str\u001b[38;5;132;01m}\u001b[39;00m\u001b[38;5;124m\"\u001b[39m\n\u001b[0;32m    228\u001b[0m         )\n\u001b[0;32m    230\u001b[0m     \u001b[38;5;28;01mif\u001b[39;00m tf\u001b[38;5;241m.\u001b[39mio\u001b[38;5;241m.\u001b[39mgfile\u001b[38;5;241m.\u001b[39misdir(filepath_str):\n\u001b[0;32m    231\u001b[0m         \u001b[38;5;28;01mreturn\u001b[39;00m saved_model_load\u001b[38;5;241m.\u001b[39mload(\n\u001b[0;32m    232\u001b[0m             filepath_str, \u001b[38;5;28mcompile\u001b[39m, options\n\u001b[0;32m    233\u001b[0m         )\n",
      "\u001b[1;31mOSError\u001b[0m: No file or directory found at model.keras"
     ]
    }
   ],
   "source": [
    "%run app.py"
   ]
  }
 ],
 "metadata": {
  "kernelspec": {
   "display_name": "venv",
   "language": "python",
   "name": "python3"
  },
  "language_info": {
   "codemirror_mode": {
    "name": "ipython",
    "version": 3
   },
   "file_extension": ".py",
   "mimetype": "text/x-python",
   "name": "python",
   "nbconvert_exporter": "python",
   "pygments_lexer": "ipython3",
   "version": "3.10.13"
  }
 },
 "nbformat": 4,
 "nbformat_minor": 2
}
